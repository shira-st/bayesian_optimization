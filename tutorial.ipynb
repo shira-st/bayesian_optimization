{
 "cells": [
  {
   "cell_type": "markdown",
   "metadata": {},
   "source": [
    "# Bayesian optimization for non-vectorial data\n",
    "\n",
    "We consider the problem of finding the optimal data $x^*$ from $N$ non-vectorial data $\\{x_1,\\cdots,x_N\\}$ that minimize the objective function $f:\\mathcal{D}\\to\\mathbb{R}$, while we observe as few objective function values as possible by the Bayesian optimization algorithm.\n",
    "\n",
    "$x^*=\\underset{x\\in\\mathcal{D}}{\\operatorname{argmin}}f(x)$"
   ]
  },
  {
   "cell_type": "code",
   "execution_count": 7,
   "metadata": {},
   "outputs": [],
   "source": [
    "import numpy as np\n",
    "import matplotlib.pyplot as plt\n",
    "from BayesianOptimization import BayesianOptimization"
   ]
  },
  {
   "cell_type": "markdown",
   "metadata": {},
   "source": [
    "## Data\n",
    "\n",
    "We use the ESOL dataset about water solubility of relatively small molecules (http://moleculenet.ai/datasets-1).\n",
    "`data_file` is the objective function values and `kernel_file` is the Gram matrix for all molecules in the dataset.\n",
    "- values[i]: water solubility of the molecule $x_i$\n",
    "- kernel[i][j]: kernel function value $k(x_i,x_j)$"
   ]
  },
  {
   "cell_type": "code",
   "execution_count": 8,
   "metadata": {},
   "outputs": [
    {
     "name": "stdout",
     "output_type": "stream",
     "text": [
      "(1128,)\n",
      "(1128, 1128)\n"
     ]
    }
   ],
   "source": [
    "data_file = \"data/esol.npy\"\n",
    "kernel_file = \"kernel/esol_kernel.npy\"\n",
    "values = np.load(data_file)\n",
    "kernel = np.load(kernel_file)\n",
    "\n",
    "print(values.shape)\n",
    "print(kernel.shape)"
   ]
  },
  {
   "cell_type": "markdown",
   "metadata": {},
   "source": [
    "## Input\n",
    "\n",
    "The first input is the objective function which takes an index of data as input and return some scalar value. We access the value through the method named by `f`. Note that we assume that we are given objective function values for all possble data in advance. The second input is the Gram matrix."
   ]
  },
  {
   "cell_type": "code",
   "execution_count": 10,
   "metadata": {},
   "outputs": [],
   "source": [
    "class ObjectiveFunction:\n",
    "    def __init__(self, y):\n",
    "        self.y = y\n",
    "        \n",
    "    def f(self, i):\n",
    "        return self.y[i]\n",
    "    \n",
    "objective = ObjectiveFunction(values)\n",
    "bo = BayesianOptimization(objective, kernel)"
   ]
  },
  {
   "cell_type": "markdown",
   "metadata": {},
   "source": [
    "## Experiment\n",
    "\n",
    "The Bayesian optimization algorithm is executed by calling the `optimize` method. We can get the best observation for each iteration through the `result` attribute."
   ]
  },
  {
   "cell_type": "code",
   "execution_count": 11,
   "metadata": {},
   "outputs": [
    {
     "data": {
      "image/png": "[encoded data removed]",
      "text/plain": [
       "<Figure size 432x288 with 1 Axes>"
      ]
     },
     "metadata": {
      "needs_background": "light"
     },
     "output_type": "display_data"
    }
   ],
   "source": [
    "bo.optimize()\n",
    "result = bo.result\n",
    "\n",
    "plt.plot(list(range(len(result))), result)\n",
    "plt.title(\"best observation\")\n",
    "plt.xlabel(\"iteration\")\n",
    "plt.ylabel(\"y\")\n",
    "plt.show()"
   ]
  },
  {
   "cell_type": "code",
   "execution_count": null,
   "metadata": {},
   "outputs": [],
   "source": []
  }
 ],
 "metadata": {
  "kernelspec": {
   "display_name": "Python 3",
   "language": "python",
   "name": "python3"
  },
  "language_info": {
   "codemirror_mode": {
    "name": "ipython",
    "version": 3
   },
   "file_extension": ".py",
   "mimetype": "text/x-python",
   "name": "python",
   "nbconvert_exporter": "python",
   "pygments_lexer": "ipython3",
   "version": "3.7.2"
  }
 },
 "nbformat": 4,
 "nbformat_minor": 2
}
